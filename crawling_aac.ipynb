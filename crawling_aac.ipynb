{
 "cells": [
  {
   "cell_type": "code",
   "execution_count": 18,
   "metadata": {},
   "outputs": [],
   "source": [
    "#pip install selenium\n",
    "#pip install webdriver_manager\n",
    "#pip install BeautifulSoup4\n",
    "#pip install bs4"
   ]
  },
  {
   "cell_type": "code",
   "execution_count": 3,
   "metadata": {},
   "outputs": [],
   "source": [
    "# from selenium import webdriver\n",
    "# from selenium.webdriver.common.keys import Keys # enter 치는 명령어\n",
    "# import pandas as pd \n",
    "# from selenium.webdriver.common.by import By\n",
    "# from selenium.webdriver.chrome.service import Service\n",
    "\n",
    "# from webdriver_manager.chrome import ChromeDriverManager\n",
    "\n",
    "\n",
    "\n",
    "from selenium import webdriver\n",
    "import time\n",
    "from bs4 import BeautifulSoup\n",
    "import re"
   ]
  },
  {
   "cell_type": "code",
   "execution_count": 68,
   "metadata": {},
   "outputs": [],
   "source": [
    "page = requests.get('http://symbol.ksaac.or.kr/searchsymbols/searchbycategory?cago=23')\n",
    "soup = bs(page.text, \"html.parser\")\n",
    "\n",
    "elements_title = soup.select('.category-l1-name')\n"
   ]
  },
  {
   "cell_type": "code",
   "execution_count": 1,
   "metadata": {},
   "outputs": [],
   "source": [
    "import requests\n",
    "from bs4 import BeautifulSoup as bs\n",
    "\n",
    "#해당 카테고리가 있는 주소를 넣으면 그 카테고리에 있는 토큰과 이미지를 가져오는 함수\n",
    "\n",
    "def get_text(url):\n",
    "    page = requests.get(url)\n",
    "    soup = bs(page.text, \"html.parser\")\n",
    "\n",
    "    elements_text = soup.select('.s-expression')\n",
    "    #elements_image = soup.select('.s-img')\n",
    "\n",
    "\n",
    "    li = []\n",
    "\n",
    "    for i in range(len(elements_text)):\n",
    "        try:\n",
    "            li.append(elements_text[i].text)\n",
    "        except:\n",
    "            print(f\"{i}번째 데이터에 오류가 있습니다\")\n",
    "\n",
    "    return li\n",
    "\n",
    "\n",
    "def get_image(url):\n",
    "    page = requests.get(url)\n",
    "    soup = bs(page.text, \"html.parser\")\n",
    "\n",
    "    #elements_text = soup.select('.s-expression')\n",
    "    elements_image = soup.select('.s-img')\n",
    "\n",
    "\n",
    "    li = []\n",
    "\n",
    "    for i in range(len(elements_image)):\n",
    "        try:\n",
    "            li.append(elements_image[i]['src'])\n",
    "        except:\n",
    "            print(f\"{i}번째 데이터에 오류가 있습니다\")\n",
    "\n",
    "    return li"
   ]
  },
  {
   "cell_type": "code",
   "execution_count": 70,
   "metadata": {},
   "outputs": [],
   "source": [
    "page = requests.get('http://symbol.ksaac.or.kr/searchsymbols/searchbycategory?cago=23')\n",
    "soup = bs(page.text, \"html.parser\")\n",
    "\n",
    "elements_title = soup.select('.category-l1-name')\n",
    "\n",
    "\n",
    "# csv_text = []\n",
    "# csv_image = []\n",
    "\n",
    "# 모든 카테고리를 더해서 하나의 데이터 프레임을 만듬\n",
    "\n",
    "for i in range(25):\n",
    "    if i < 23:\n",
    "        url = f\"http://symbol.ksaac.or.kr/searchsymbols/searchbycategory?cago={i+2}\"\n",
    "    else:\n",
    "        i = i + 133\n",
    "        url = f\"http://symbol.ksaac.or.kr/searchsymbols/searchbycategory?cago={i}\"\n",
    "\n",
    "    if i == 0:\n",
    "        csv_text = get_text(url)\n",
    "        csv_image = get_image(url)\n",
    "    else:\n",
    "        csv_text = csv_text + get_text(url)\n",
    "        csv_image = csv_image + get_image(url)\n",
    "        \n",
    "    \n",
    "    "
   ]
  },
  {
   "cell_type": "code",
   "execution_count": null,
   "metadata": {},
   "outputs": [],
   "source": [
    "df.to_csv('aac.csv',index = False,encoding=\"utf-8-sig\")"
   ]
  },
  {
   "cell_type": "code",
   "execution_count": 72,
   "metadata": {},
   "outputs": [
    {
     "data": {
      "text/plain": [
       "10359"
      ]
     },
     "execution_count": 72,
     "metadata": {},
     "output_type": "execute_result"
    }
   ],
   "source": [
    "len(csv_text)"
   ]
  },
  {
   "cell_type": "code",
   "execution_count": 73,
   "metadata": {},
   "outputs": [
    {
     "data": {
      "text/plain": [
       "10359"
      ]
     },
     "execution_count": 73,
     "metadata": {},
     "output_type": "execute_result"
    }
   ],
   "source": [
    "len(csv_image)"
   ]
  },
  {
   "cell_type": "code",
   "execution_count": 75,
   "metadata": {},
   "outputs": [],
   "source": [
    "import pandas as pd\n",
    "\n",
    "df = pd.DataFrame({'text':csv_text,\n",
    "            'image':csv_image})"
   ]
  },
  {
   "cell_type": "code",
   "execution_count": 2,
   "metadata": {},
   "outputs": [],
   "source": [
    "# 음식 카테고리만 따로 추출함\n",
    "\n",
    "\n",
    "url = \"http://symbol.ksaac.or.kr/searchsymbols/searchbycategory?cago=3\"\n",
    "\n",
    "li1 = get_text(url)\n",
    "li2 = get_image(url)\n",
    "\n",
    "import pandas as pd\n",
    "\n",
    "df_food = pd.DataFrame({'text':li1,\n",
    "            'image':li2})"
   ]
  },
  {
   "cell_type": "code",
   "execution_count": 4,
   "metadata": {},
   "outputs": [],
   "source": [
    "df_food['카테고리1'] = '음식'"
   ]
  },
  {
   "cell_type": "code",
   "execution_count": 5,
   "metadata": {},
   "outputs": [
    {
     "data": {
      "text/html": [
       "<div>\n",
       "<style scoped>\n",
       "    .dataframe tbody tr th:only-of-type {\n",
       "        vertical-align: middle;\n",
       "    }\n",
       "\n",
       "    .dataframe tbody tr th {\n",
       "        vertical-align: top;\n",
       "    }\n",
       "\n",
       "    .dataframe thead th {\n",
       "        text-align: right;\n",
       "    }\n",
       "</style>\n",
       "<table border=\"1\" class=\"dataframe\">\n",
       "  <thead>\n",
       "    <tr style=\"text-align: right;\">\n",
       "      <th></th>\n",
       "      <th>text</th>\n",
       "      <th>image</th>\n",
       "      <th>카테고리1</th>\n",
       "    </tr>\n",
       "  </thead>\n",
       "  <tbody>\n",
       "    <tr>\n",
       "      <th>0</th>\n",
       "      <td>간장에찍어요</td>\n",
       "      <td>http://220.69.171.28:8080/Symbol/Symbol/n2_eum...</td>\n",
       "      <td>음식</td>\n",
       "    </tr>\n",
       "    <tr>\n",
       "      <th>1</th>\n",
       "      <td>갈비탕</td>\n",
       "      <td>http://220.69.171.28:8080/Symbol/Symbol/n2_eum...</td>\n",
       "      <td>음식</td>\n",
       "    </tr>\n",
       "    <tr>\n",
       "      <th>2</th>\n",
       "      <td>고추잡채</td>\n",
       "      <td>http://220.69.171.28:8080/Symbol/Symbol/n2_eum...</td>\n",
       "      <td>음식</td>\n",
       "    </tr>\n",
       "    <tr>\n",
       "      <th>3</th>\n",
       "      <td>고추장넣어요</td>\n",
       "      <td>http://220.69.171.28:8080/Symbol/Symbol/n2_eum...</td>\n",
       "      <td>음식</td>\n",
       "    </tr>\n",
       "    <tr>\n",
       "      <th>4</th>\n",
       "      <td>고추장주세요</td>\n",
       "      <td>http://220.69.171.28:8080/Symbol/Symbol/n2_eum...</td>\n",
       "      <td>음식</td>\n",
       "    </tr>\n",
       "  </tbody>\n",
       "</table>\n",
       "</div>"
      ],
      "text/plain": [
       "     text                                              image 카테고리1\n",
       "0  간장에찍어요  http://220.69.171.28:8080/Symbol/Symbol/n2_eum...    음식\n",
       "1     갈비탕  http://220.69.171.28:8080/Symbol/Symbol/n2_eum...    음식\n",
       "2    고추잡채  http://220.69.171.28:8080/Symbol/Symbol/n2_eum...    음식\n",
       "3  고추장넣어요  http://220.69.171.28:8080/Symbol/Symbol/n2_eum...    음식\n",
       "4  고추장주세요  http://220.69.171.28:8080/Symbol/Symbol/n2_eum...    음식"
      ]
     },
     "execution_count": 5,
     "metadata": {},
     "output_type": "execute_result"
    }
   ],
   "source": [
    "df_food.head()"
   ]
  },
  {
   "cell_type": "code",
   "execution_count": 17,
   "metadata": {},
   "outputs": [],
   "source": [
    "#종성 뽑아오는 함수\n",
    "from jamo import h2j, j2hcj\n",
    "\n",
    "def extract_consonant(text):\n",
    "    text = j2hcj(h2j(text))[-1]\n",
    "\n",
    "    return text"
   ]
  },
  {
   "cell_type": "code",
   "execution_count": 15,
   "metadata": {},
   "outputs": [
    {
     "data": {
      "text/plain": [
       "'ㅗ'"
      ]
     },
     "execution_count": 15,
     "metadata": {},
     "output_type": "execute_result"
    }
   ],
   "source": [
    "extract_consonant(\"토마토\")"
   ]
  },
  {
   "cell_type": "code",
   "execution_count": 43,
   "metadata": {},
   "outputs": [],
   "source": [
    "from jamo import h2j, j2hcj\n",
    "\n",
    "def noun(df):\n",
    "    idx = []\n",
    "    for i in range(df.shape[0]):\n",
    "        temp = df.iloc[i,0]\n",
    "        text = extract_consonant(temp)\n",
    "        if text[-1] == 'ㅁ' and len(temp) >= 3 :\n",
    "            idx.append(i)\n",
    "\n",
    "    return pd.DataFrame(set(df.iloc[idx,0]))"
   ]
  },
  {
   "cell_type": "code",
   "execution_count": 44,
   "metadata": {},
   "outputs": [],
   "source": [
    "df_food_noun = noun(df_food)"
   ]
  },
  {
   "cell_type": "code",
   "execution_count": 38,
   "metadata": {},
   "outputs": [
    {
     "data": {
      "text/plain": [
       "19"
      ]
     },
     "execution_count": 38,
     "metadata": {},
     "output_type": "execute_result"
    }
   ],
   "source": [
    "df_food_noun.shape[0]"
   ]
  },
  {
   "cell_type": "code",
   "execution_count": 48,
   "metadata": {},
   "outputs": [
    {
     "data": {
      "text/plain": [
       "'땅콩잼를 좋아애효'"
      ]
     },
     "execution_count": 48,
     "metadata": {},
     "output_type": "execute_result"
    }
   ],
   "source": [
    "df_food_noun.iloc[0][0] + \"를 좋아애효\""
   ]
  },
  {
   "cell_type": "code",
   "execution_count": 49,
   "metadata": {},
   "outputs": [],
   "source": [
    "#음식과 관련된 동사형\n",
    "#먹고 싶어요, 더 주세요, ~을 좋아해요\n",
    "#마지막에 종성이 있으면 ~를 종성이 없으면 ~을 붙혀서 동사와 붙혀서 명사로 만들자\n",
    "\n",
    "list = ['ㅏ','ㅐ','ㅑ','ㅒ','ㅓ','ㅔ','ㅕ','ㅖ','ㅗ','ㅘ','ㅙ','ㅚ','ㅛ','ㅜ','ㅝ','ㅞ','ㅟ','ㅠ','ㅡ','ㅢ','ㅣ']\n",
    "\n",
    "\n",
    "verb = ['먹고 싶어요','더 주세요','좋아해요']\n",
    "\n",
    "script_list = []\n",
    "\n",
    "\n",
    "for i in range(len(verb)):\n",
    "    for j in range(df_food_noun.shape[0]):\n",
    "        temp = df_food_noun.iloc[j][0]\n",
    "        \n",
    "        if extract_consonant(temp) in list:\n",
    "            script_list.append(temp+\"를 \"+verb[i])\n",
    "        else:\n",
    "            script_list.append(temp+\"을 \"+verb[i])\n",
    "\n",
    "\n"
   ]
  },
  {
   "cell_type": "code",
   "execution_count": 50,
   "metadata": {},
   "outputs": [
    {
     "data": {
      "text/plain": [
       "['땅콩잼을 먹고 싶어요',\n",
       " '멸치볶음을 먹고 싶어요',\n",
       " '제육볶음을 먹고 싶어요',\n",
       " '과일통조림을 먹고 싶어요',\n",
       " '콘아이스크림을 먹고 싶어요',\n",
       " '살구잼을 먹고 싶어요',\n",
       " '참기름을 먹고 싶어요',\n",
       " '장조림을 먹고 싶어요',\n",
       " '콩나물무침을 먹고 싶어요',\n",
       " '감자튀김을 먹고 싶어요',\n",
       " '포도잼을 먹고 싶어요',\n",
       " '참치통조림을 먹고 싶어요',\n",
       " '사과잼을 먹고 싶어요',\n",
       " '딸기잼을 먹고 싶어요',\n",
       " '시금치무침을 먹고 싶어요',\n",
       " '어묵볶음을 먹고 싶어요',\n",
       " '아이스크림을 먹고 싶어요',\n",
       " '갈비찜을 먹고 싶어요',\n",
       " '들기름을 먹고 싶어요',\n",
       " '땅콩잼을 더 주세요',\n",
       " '멸치볶음을 더 주세요',\n",
       " '제육볶음을 더 주세요',\n",
       " '과일통조림을 더 주세요',\n",
       " '콘아이스크림을 더 주세요',\n",
       " '살구잼을 더 주세요',\n",
       " '참기름을 더 주세요',\n",
       " '장조림을 더 주세요',\n",
       " '콩나물무침을 더 주세요',\n",
       " '감자튀김을 더 주세요',\n",
       " '포도잼을 더 주세요',\n",
       " '참치통조림을 더 주세요',\n",
       " '사과잼을 더 주세요',\n",
       " '딸기잼을 더 주세요',\n",
       " '시금치무침을 더 주세요',\n",
       " '어묵볶음을 더 주세요',\n",
       " '아이스크림을 더 주세요',\n",
       " '갈비찜을 더 주세요',\n",
       " '들기름을 더 주세요',\n",
       " '땅콩잼을 좋아해요',\n",
       " '멸치볶음을 좋아해요',\n",
       " '제육볶음을 좋아해요',\n",
       " '과일통조림을 좋아해요',\n",
       " '콘아이스크림을 좋아해요',\n",
       " '살구잼을 좋아해요',\n",
       " '참기름을 좋아해요',\n",
       " '장조림을 좋아해요',\n",
       " '콩나물무침을 좋아해요',\n",
       " '감자튀김을 좋아해요',\n",
       " '포도잼을 좋아해요',\n",
       " '참치통조림을 좋아해요',\n",
       " '사과잼을 좋아해요',\n",
       " '딸기잼을 좋아해요',\n",
       " '시금치무침을 좋아해요',\n",
       " '어묵볶음을 좋아해요',\n",
       " '아이스크림을 좋아해요',\n",
       " '갈비찜을 좋아해요',\n",
       " '들기름을 좋아해요']"
      ]
     },
     "execution_count": 50,
     "metadata": {},
     "output_type": "execute_result"
    }
   ],
   "source": [
    "script_list"
   ]
  },
  {
   "cell_type": "code",
   "execution_count": 51,
   "metadata": {},
   "outputs": [
    {
     "data": {
      "text/plain": [
       "57"
      ]
     },
     "execution_count": 51,
     "metadata": {},
     "output_type": "execute_result"
    }
   ],
   "source": [
    "len(script_list)"
   ]
  },
  {
   "cell_type": "code",
   "execution_count": null,
   "metadata": {},
   "outputs": [],
   "source": []
  }
 ],
 "metadata": {
  "kernelspec": {
   "display_name": "Python 3",
   "language": "python",
   "name": "python3"
  },
  "language_info": {
   "codemirror_mode": {
    "name": "ipython",
    "version": 3
   },
   "file_extension": ".py",
   "mimetype": "text/x-python",
   "name": "python",
   "nbconvert_exporter": "python",
   "pygments_lexer": "ipython3",
   "version": "3.10.11"
  },
  "orig_nbformat": 4
 },
 "nbformat": 4,
 "nbformat_minor": 2
}
