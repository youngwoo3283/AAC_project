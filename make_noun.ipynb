{
 "cells": [
  {
   "cell_type": "code",
   "execution_count": 1,
   "metadata": {},
   "outputs": [
    {
     "name": "stdout",
     "output_type": "stream",
     "text": [
      "Collecting soynlp\n",
      "  Downloading soynlp-0.0.493-py3-none-any.whl (416 kB)\n",
      "                                              0.0/416.8 kB ? eta -:--:--\n",
      "     ------------------------------------- 416.8/416.8 kB 12.7 MB/s eta 0:00:00\n",
      "Requirement already satisfied: numpy>=1.12.1 in c:\\users\\seo.jiyoung\\appdata\\local\\packages\\pythonsoftwarefoundation.python.3.10_qbz5n2kfra8p0\\localcache\\local-packages\\python310\\site-packages (from soynlp) (1.23.5)\n",
      "Requirement already satisfied: psutil>=5.0.1 in c:\\users\\seo.jiyoung\\appdata\\local\\packages\\pythonsoftwarefoundation.python.3.10_qbz5n2kfra8p0\\localcache\\local-packages\\python310\\site-packages (from soynlp) (5.9.5)\n",
      "Requirement already satisfied: scipy>=1.1.0 in c:\\users\\seo.jiyoung\\appdata\\local\\packages\\pythonsoftwarefoundation.python.3.10_qbz5n2kfra8p0\\localcache\\local-packages\\python310\\site-packages (from soynlp) (1.9.0)\n",
      "Requirement already satisfied: scikit-learn>=0.20.0 in c:\\users\\seo.jiyoung\\appdata\\local\\packages\\pythonsoftwarefoundation.python.3.10_qbz5n2kfra8p0\\localcache\\local-packages\\python310\\site-packages (from soynlp) (1.1.2)\n",
      "Requirement already satisfied: joblib>=1.0.0 in c:\\users\\seo.jiyoung\\appdata\\local\\packages\\pythonsoftwarefoundation.python.3.10_qbz5n2kfra8p0\\localcache\\local-packages\\python310\\site-packages (from scikit-learn>=0.20.0->soynlp) (1.1.0)\n",
      "Requirement already satisfied: threadpoolctl>=2.0.0 in c:\\users\\seo.jiyoung\\appdata\\local\\packages\\pythonsoftwarefoundation.python.3.10_qbz5n2kfra8p0\\localcache\\local-packages\\python310\\site-packages (from scikit-learn>=0.20.0->soynlp) (3.1.0)\n",
      "Installing collected packages: soynlp\n",
      "Successfully installed soynlp-0.0.493\n",
      "Note: you may need to restart the kernel to use updated packages.\n"
     ]
    }
   ],
   "source": [
    "pip install soynlp"
   ]
  },
  {
   "cell_type": "code",
   "execution_count": 7,
   "metadata": {},
   "outputs": [],
   "source": [
    "import pandas as pd\n",
    "import numpy as np"
   ]
  },
  {
   "cell_type": "code",
   "execution_count": 8,
   "metadata": {},
   "outputs": [],
   "source": [
    "df = pd.read_csv(r'C:\\Users\\seo.jiyoung\\Desktop\\AAC_project\\aac.csv')"
   ]
  },
  {
   "cell_type": "code",
   "execution_count": 4,
   "metadata": {},
   "outputs": [
    {
     "data": {
      "text/html": [
       "<div>\n",
       "<style scoped>\n",
       "    .dataframe tbody tr th:only-of-type {\n",
       "        vertical-align: middle;\n",
       "    }\n",
       "\n",
       "    .dataframe tbody tr th {\n",
       "        vertical-align: top;\n",
       "    }\n",
       "\n",
       "    .dataframe thead th {\n",
       "        text-align: right;\n",
       "    }\n",
       "</style>\n",
       "<table border=\"1\" class=\"dataframe\">\n",
       "  <thead>\n",
       "    <tr style=\"text-align: right;\">\n",
       "      <th></th>\n",
       "      <th>text</th>\n",
       "      <th>image</th>\n",
       "    </tr>\n",
       "  </thead>\n",
       "  <tbody>\n",
       "    <tr>\n",
       "      <th>0</th>\n",
       "      <td>TV보고싶어요</td>\n",
       "      <td>http://220.69.171.28:8080/Symbol/Symbol/n1_gi_...</td>\n",
       "    </tr>\n",
       "    <tr>\n",
       "      <th>1</th>\n",
       "      <td>가방(실내화가방)</td>\n",
       "      <td>http://220.69.171.28:8080/Symbol/Symbol/n1_gi_...</td>\n",
       "    </tr>\n",
       "    <tr>\n",
       "      <th>2</th>\n",
       "      <td>간식</td>\n",
       "      <td>http://220.69.171.28:8080/Symbol/Symbol/n1_gi_...</td>\n",
       "    </tr>\n",
       "    <tr>\n",
       "      <th>3</th>\n",
       "      <td>간식</td>\n",
       "      <td>http://220.69.171.28:8080/Symbol/Symbol/n1_gi_...</td>\n",
       "    </tr>\n",
       "    <tr>\n",
       "      <th>4</th>\n",
       "      <td>감사합니다</td>\n",
       "      <td>http://220.69.171.28:8080/Symbol/Symbol/n1_gi_...</td>\n",
       "    </tr>\n",
       "  </tbody>\n",
       "</table>\n",
       "</div>"
      ],
      "text/plain": [
       "        text                                              image\n",
       "0    TV보고싶어요  http://220.69.171.28:8080/Symbol/Symbol/n1_gi_...\n",
       "1  가방(실내화가방)  http://220.69.171.28:8080/Symbol/Symbol/n1_gi_...\n",
       "2         간식  http://220.69.171.28:8080/Symbol/Symbol/n1_gi_...\n",
       "3         간식  http://220.69.171.28:8080/Symbol/Symbol/n1_gi_...\n",
       "4      감사합니다  http://220.69.171.28:8080/Symbol/Symbol/n1_gi_..."
      ]
     },
     "execution_count": 4,
     "metadata": {},
     "output_type": "execute_result"
    }
   ],
   "source": [
    "df.head()"
   ]
  },
  {
   "cell_type": "code",
   "execution_count": 5,
   "metadata": {},
   "outputs": [],
   "source": [
    "idx = []\n",
    "for i in range(df.shape[0]):\n",
    "    if len(df.iloc[i,0]) <= 2:\n",
    "        idx.append(i)\n",
    "\n",
    "\n",
    "df_noun=df.iloc[idx,0]"
   ]
  },
  {
   "cell_type": "code",
   "execution_count": 9,
   "metadata": {},
   "outputs": [
    {
     "data": {
      "text/plain": [
       "3047"
      ]
     },
     "execution_count": 9,
     "metadata": {},
     "output_type": "execute_result"
    }
   ],
   "source": [
    "len(df_noun)"
   ]
  },
  {
   "cell_type": "code",
   "execution_count": 8,
   "metadata": {},
   "outputs": [
    {
     "data": {
      "text/plain": [
       "1935"
      ]
     },
     "execution_count": 8,
     "metadata": {},
     "output_type": "execute_result"
    }
   ],
   "source": [
    "len(set(df_noun))"
   ]
  },
  {
   "cell_type": "code",
   "execution_count": 6,
   "metadata": {},
   "outputs": [],
   "source": [
    "df_noun.to_csv('noun2.csv',index = False, encoding='utf-8-sig')"
   ]
  },
  {
   "cell_type": "code",
   "execution_count": 12,
   "metadata": {},
   "outputs": [],
   "source": [
    "pd.DataFrame(set(df_noun)).to_csv('noun2.csv',index = False, encoding='utf-8-sig')"
   ]
  },
  {
   "cell_type": "code",
   "execution_count": null,
   "metadata": {},
   "outputs": [],
   "source": [
    "idx = []\n",
    "for i in range(df.shape[0]):\n",
    "    if len(df.iloc[i,0]) <= 2:\n",
    "        idx.append(i)\n",
    "\n",
    "\n",
    "df_noun=df.iloc[idx,0]"
   ]
  },
  {
   "cell_type": "code",
   "execution_count": 14,
   "metadata": {},
   "outputs": [
    {
     "data": {
      "text/plain": [
       "0              TV보고싶어요\n",
       "5              같이놀고싶어요\n",
       "57              물먹고싶어요\n",
       "64            밖에나가고싶어요\n",
       "65            밖에나가고싶어요\n",
       "             ...      \n",
       "9007       육아휴직신청하고싶어요\n",
       "9390      장애인운전교육받고싶어요\n",
       "9391    장애인운전교육신청하고싶어요\n",
       "9579          뭐마시고싶어요-\n",
       "9884          화장실가고싶어요\n",
       "Name: text, Length: 104, dtype: object"
      ]
     },
     "execution_count": 14,
     "metadata": {},
     "output_type": "execute_result"
    }
   ],
   "source": [
    "import re\n",
    "\n",
    "question_expression = ['싶어요']\n",
    "\n",
    "li_idx = []\n",
    "\n",
    "str_re = question_expression[0]\n",
    "expression_regexp = re.compile(str_re)\n",
    "\n",
    "for j in range(df.shape[0]):\n",
    "    temp = df.iloc[j,0]\n",
    "\n",
    "    if expression_regexp.search(temp):\n",
    "        li_idx.append(j)\n",
    "\n",
    "\n",
    "df_want_expression = df.iloc[li_idx,0]\n",
    "\n",
    "df_want_expression"
   ]
  },
  {
   "cell_type": "code",
   "execution_count": 15,
   "metadata": {},
   "outputs": [],
   "source": [
    "pd.DataFrame(set(df_want_expression)).to_csv('want.csv',index = False, encoding='utf-8-sig')"
   ]
  },
  {
   "cell_type": "code",
   "execution_count": 1,
   "metadata": {},
   "outputs": [
    {
     "name": "stdout",
     "output_type": "stream",
     "text": [
      "Collecting jamo\n",
      "  Downloading jamo-0.4.1-py3-none-any.whl (9.5 kB)\n",
      "Installing collected packages: jamo\n",
      "Successfully installed jamo-0.4.1\n",
      "Note: you may need to restart the kernel to use updated packages.\n"
     ]
    }
   ],
   "source": [
    "pip install jamo"
   ]
  },
  {
   "cell_type": "code",
   "execution_count": 3,
   "metadata": {},
   "outputs": [
    {
     "data": {
      "text/plain": [
       "'ㅈㅓㄴㅡㄴ ㅈㅣㅂㅇㅔ ㄱㅏㄱㅗ ㅅㅣㅍㅇㅓㅇㅛ'"
      ]
     },
     "execution_count": 3,
     "metadata": {},
     "output_type": "execute_result"
    }
   ],
   "source": [
    "from jamo import h2j, j2hcj\n",
    "\n",
    "text = \"저는 집에 가고 싶어요\"\n",
    "jamo_str = j2hcj(h2j(text))\n",
    "jamo_str"
   ]
  },
  {
   "cell_type": "code",
   "execution_count": 6,
   "metadata": {},
   "outputs": [
    {
     "data": {
      "text/plain": [
       "'ㅅㅏㄱㅘ'"
      ]
     },
     "execution_count": 6,
     "metadata": {},
     "output_type": "execute_result"
    }
   ],
   "source": [
    "j2hcj(h2j('사과'))"
   ]
  },
  {
   "cell_type": "code",
   "execution_count": 13,
   "metadata": {},
   "outputs": [
    {
     "data": {
      "text/plain": [
       "216"
      ]
     },
     "execution_count": 13,
     "metadata": {},
     "output_type": "execute_result"
    }
   ],
   "source": [
    "idx = []\n",
    "for i in range(df.shape[0]):\n",
    "    temp = df.iloc[i,0]\n",
    "    text = j2hcj(h2j(temp))\n",
    "    if text[-1] == 'ㅁ' and len(temp) >= 3 :\n",
    "        idx.append(i)\n",
    "\n",
    "df.iloc[idx,0].shape[0]\n",
    "    "
   ]
  }
 ],
 "metadata": {
  "kernelspec": {
   "display_name": "Python 3",
   "language": "python",
   "name": "python3"
  },
  "language_info": {
   "codemirror_mode": {
    "name": "ipython",
    "version": 3
   },
   "file_extension": ".py",
   "mimetype": "text/x-python",
   "name": "python",
   "nbconvert_exporter": "python",
   "pygments_lexer": "ipython3",
   "version": "3.10.11"
  },
  "orig_nbformat": 4
 },
 "nbformat": 4,
 "nbformat_minor": 2
}
